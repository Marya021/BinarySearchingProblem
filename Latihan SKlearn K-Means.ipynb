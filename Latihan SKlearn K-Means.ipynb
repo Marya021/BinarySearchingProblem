{
  "nbformat": 4,
  "nbformat_minor": 0,
  "metadata": {
    "colab": {
      "name": "Dicoding.ipynb",
      "provenance": [],
      "collapsed_sections": [
        "qgB9LRxmkkbW"
      ],
      "toc_visible": true,
      "mount_file_id": "1RIOI8DMvVZ18DBThVX1vkiZKptXkplZO",
      "authorship_tag": "ABX9TyPUaFzsHQaHcU36yc1RJr0a",
      "include_colab_link": true
    },
    "kernelspec": {
      "name": "python3",
      "display_name": "Python 3"
    },
    "language_info": {
      "name": "python"
    }
  },
  "cells": [
    {
      "cell_type": "markdown",
      "metadata": {
        "id": "view-in-github",
        "colab_type": "text"
      },
      "source": [
        "<a href=\"https://colab.research.google.com/github/Marya021/BinarySearchingProblem/blob/Marya/Latihan%20SKlearn%20K-Means.ipynb\" target=\"_parent\"><img src=\"https://colab.research.google.com/assets/colab-badge.svg\" alt=\"Open In Colab\"/></a>"
      ]
    },
    {
      "cell_type": "markdown",
      "metadata": {
        "id": "wlJifeVNkC1W"
      },
      "source": [
        "# **LATIHAN CODELAB**"
      ]
    },
    {
      "cell_type": "markdown",
      "metadata": {
        "id": "T70cYr1ZkGn4"
      },
      "source": [
        "# **Tahapan Latihan**\n",
        "Dataset iris terdiri dari 4 atribut yaitu panjang sepal, lebar sepal, panjang petal, dan lebar petal. Terdapat 3 kelas target pada dataset ini. Data ini dipakai untuk masalah klasifikasi, di mana kita bisa memprediksi spesies dari sebuah bunga berdasarkan atribut-atribut yang diberikan.\n",
        "\n",
        "Tahapan yang ada pada latihan ini antara lain:\n",
        "\n",
        "*   Ubah dataset ke dalam dataframe.\n",
        "*   Hapus kolom 'Id' pada dataframe dan pisahkan antara atribut dan label.\n",
        "*   Buat dan latih model Decision Tree.\n",
        "*   Lakukan prediksi dengan model yang telah dilatih\n",
        "*   Visualisasi model Decision Tree yang telah dilatih.\n",
        "\n"
      ]
    },
    {
      "cell_type": "markdown",
      "metadata": {
        "id": "qgB9LRxmkkbW"
      },
      "source": [
        "# **Latihan SKLearn Decision Tree**\n",
        "Pertama kita akan mengimpor library yang dibutuhkan dan mempersiapkan dataset. Dataset dapat anda unduh di tautan berikut. Setelah data diunduh, masukkan berkas **Iris.csv **ke dalam Watson Studio Notebook atau Colab. Lalu jangan lupa konversi dataset menjadi dataframe Pandas."
      ]
    },
    {
      "cell_type": "code",
      "metadata": {
        "id": "M7toiF1WkhDm"
      },
      "source": [
        "import pandas as pd\n",
        "from sklearn.datasets import load_iris"
      ],
      "execution_count": null,
      "outputs": []
    },
    {
      "cell_type": "markdown",
      "metadata": {
        "id": "ORfVJEsblReG"
      },
      "source": [
        "\n",
        "> Membaca file iris.csv\n"
      ]
    },
    {
      "cell_type": "code",
      "metadata": {
        "id": "swTqnPFCkCEz"
      },
      "source": [
        "iris = pd.read_csv('Iris.csv')"
      ],
      "execution_count": null,
      "outputs": []
    },
    {
      "cell_type": "code",
      "metadata": {
        "colab": {
          "base_uri": "https://localhost:8080/",
          "height": 204
        },
        "id": "4xJcrr0wmWVq",
        "outputId": "4d242389-0cb2-48d1-e581-72665bca2569"
      },
      "source": [
        "#untuk melihat file dapat menggunakan head\n",
        "iris.head()"
      ],
      "execution_count": null,
      "outputs": [
        {
          "output_type": "execute_result",
          "data": {
            "text/html": [
              "<div>\n",
              "<style scoped>\n",
              "    .dataframe tbody tr th:only-of-type {\n",
              "        vertical-align: middle;\n",
              "    }\n",
              "\n",
              "    .dataframe tbody tr th {\n",
              "        vertical-align: top;\n",
              "    }\n",
              "\n",
              "    .dataframe thead th {\n",
              "        text-align: right;\n",
              "    }\n",
              "</style>\n",
              "<table border=\"1\" class=\"dataframe\">\n",
              "  <thead>\n",
              "    <tr style=\"text-align: right;\">\n",
              "      <th></th>\n",
              "      <th>Id</th>\n",
              "      <th>SepalLengthCm</th>\n",
              "      <th>SepalWidthCm</th>\n",
              "      <th>PetalLengthCm</th>\n",
              "      <th>PetalWidthCm</th>\n",
              "      <th>Species</th>\n",
              "    </tr>\n",
              "  </thead>\n",
              "  <tbody>\n",
              "    <tr>\n",
              "      <th>0</th>\n",
              "      <td>1</td>\n",
              "      <td>5.1</td>\n",
              "      <td>3.5</td>\n",
              "      <td>1.4</td>\n",
              "      <td>0.2</td>\n",
              "      <td>Iris-setosa</td>\n",
              "    </tr>\n",
              "    <tr>\n",
              "      <th>1</th>\n",
              "      <td>2</td>\n",
              "      <td>4.9</td>\n",
              "      <td>3.0</td>\n",
              "      <td>1.4</td>\n",
              "      <td>0.2</td>\n",
              "      <td>Iris-setosa</td>\n",
              "    </tr>\n",
              "    <tr>\n",
              "      <th>2</th>\n",
              "      <td>3</td>\n",
              "      <td>4.7</td>\n",
              "      <td>3.2</td>\n",
              "      <td>1.3</td>\n",
              "      <td>0.2</td>\n",
              "      <td>Iris-setosa</td>\n",
              "    </tr>\n",
              "    <tr>\n",
              "      <th>3</th>\n",
              "      <td>4</td>\n",
              "      <td>4.6</td>\n",
              "      <td>3.1</td>\n",
              "      <td>1.5</td>\n",
              "      <td>0.2</td>\n",
              "      <td>Iris-setosa</td>\n",
              "    </tr>\n",
              "    <tr>\n",
              "      <th>4</th>\n",
              "      <td>5</td>\n",
              "      <td>5.0</td>\n",
              "      <td>3.6</td>\n",
              "      <td>1.4</td>\n",
              "      <td>0.2</td>\n",
              "      <td>Iris-setosa</td>\n",
              "    </tr>\n",
              "  </tbody>\n",
              "</table>\n",
              "</div>"
            ],
            "text/plain": [
              "   Id  SepalLengthCm  SepalWidthCm  PetalLengthCm  PetalWidthCm      Species\n",
              "0   1            5.1           3.5            1.4           0.2  Iris-setosa\n",
              "1   2            4.9           3.0            1.4           0.2  Iris-setosa\n",
              "2   3            4.7           3.2            1.3           0.2  Iris-setosa\n",
              "3   4            4.6           3.1            1.5           0.2  Iris-setosa\n",
              "4   5            5.0           3.6            1.4           0.2  Iris-setosa"
            ]
          },
          "metadata": {
            "tags": []
          },
          "execution_count": 39
        }
      ]
    },
    {
      "cell_type": "code",
      "metadata": {
        "id": "tBgINUZdnBAI"
      },
      "source": [
        "#untuk menghilangkan kolom dapat menggunakan \"drop\" lalu beritahu axis berapa dan inplace True\n",
        "#iris.drop('Id',axis=1, inplace=True)\n"
      ],
      "execution_count": null,
      "outputs": []
    },
    {
      "cell_type": "code",
      "metadata": {
        "colab": {
          "base_uri": "https://localhost:8080/",
          "height": 204
        },
        "id": "Yqx_ca0Ineht",
        "outputId": "9df98f79-eca5-4880-e598-4143e99af00e"
      },
      "source": [
        "iris.head()"
      ],
      "execution_count": null,
      "outputs": [
        {
          "output_type": "execute_result",
          "data": {
            "text/html": [
              "<div>\n",
              "<style scoped>\n",
              "    .dataframe tbody tr th:only-of-type {\n",
              "        vertical-align: middle;\n",
              "    }\n",
              "\n",
              "    .dataframe tbody tr th {\n",
              "        vertical-align: top;\n",
              "    }\n",
              "\n",
              "    .dataframe thead th {\n",
              "        text-align: right;\n",
              "    }\n",
              "</style>\n",
              "<table border=\"1\" class=\"dataframe\">\n",
              "  <thead>\n",
              "    <tr style=\"text-align: right;\">\n",
              "      <th></th>\n",
              "      <th>Id</th>\n",
              "      <th>SepalLengthCm</th>\n",
              "      <th>SepalWidthCm</th>\n",
              "      <th>PetalLengthCm</th>\n",
              "      <th>PetalWidthCm</th>\n",
              "      <th>Species</th>\n",
              "    </tr>\n",
              "  </thead>\n",
              "  <tbody>\n",
              "    <tr>\n",
              "      <th>0</th>\n",
              "      <td>1</td>\n",
              "      <td>5.1</td>\n",
              "      <td>3.5</td>\n",
              "      <td>1.4</td>\n",
              "      <td>0.2</td>\n",
              "      <td>Iris-setosa</td>\n",
              "    </tr>\n",
              "    <tr>\n",
              "      <th>1</th>\n",
              "      <td>2</td>\n",
              "      <td>4.9</td>\n",
              "      <td>3.0</td>\n",
              "      <td>1.4</td>\n",
              "      <td>0.2</td>\n",
              "      <td>Iris-setosa</td>\n",
              "    </tr>\n",
              "    <tr>\n",
              "      <th>2</th>\n",
              "      <td>3</td>\n",
              "      <td>4.7</td>\n",
              "      <td>3.2</td>\n",
              "      <td>1.3</td>\n",
              "      <td>0.2</td>\n",
              "      <td>Iris-setosa</td>\n",
              "    </tr>\n",
              "    <tr>\n",
              "      <th>3</th>\n",
              "      <td>4</td>\n",
              "      <td>4.6</td>\n",
              "      <td>3.1</td>\n",
              "      <td>1.5</td>\n",
              "      <td>0.2</td>\n",
              "      <td>Iris-setosa</td>\n",
              "    </tr>\n",
              "    <tr>\n",
              "      <th>4</th>\n",
              "      <td>5</td>\n",
              "      <td>5.0</td>\n",
              "      <td>3.6</td>\n",
              "      <td>1.4</td>\n",
              "      <td>0.2</td>\n",
              "      <td>Iris-setosa</td>\n",
              "    </tr>\n",
              "  </tbody>\n",
              "</table>\n",
              "</div>"
            ],
            "text/plain": [
              "   Id  SepalLengthCm  SepalWidthCm  PetalLengthCm  PetalWidthCm      Species\n",
              "0   1            5.1           3.5            1.4           0.2  Iris-setosa\n",
              "1   2            4.9           3.0            1.4           0.2  Iris-setosa\n",
              "2   3            4.7           3.2            1.3           0.2  Iris-setosa\n",
              "3   4            4.6           3.1            1.5           0.2  Iris-setosa\n",
              "4   5            5.0           3.6            1.4           0.2  Iris-setosa"
            ]
          },
          "metadata": {
            "tags": []
          },
          "execution_count": 41
        }
      ]
    },
    {
      "cell_type": "markdown",
      "metadata": {
        "id": "ta2hWNg2nm97"
      },
      "source": [
        "Selanjutnya kita akan membuat sebuah model Decision Tree terlebih dahulu kita harus **memisahkan atribut**\n"
      ]
    },
    {
      "cell_type": "code",
      "metadata": {
        "id": "urJPOseDnjSL"
      },
      "source": [
        "#Memisahkan atribut [[\"\"]\n",
        "x = iris [['SepalLengthCm',\t'SepalWidthCm',\t'PetalLengthCm', 'PetalWidthCm']]\n",
        "y = iris [['Species']]"
      ],
      "execution_count": null,
      "outputs": []
    },
    {
      "cell_type": "markdown",
      "metadata": {
        "id": "b3xryPWQoR3B"
      },
      "source": [
        "Kemudian buat model decision tree kita. Terakhir kita melatih model kita dengan menggunakan **fungsi fit()**"
      ]
    },
    {
      "cell_type": "code",
      "metadata": {
        "id": "-gfh3uoYol24"
      },
      "source": [
        "from sklearn.tree import DecisionTreeClassifier"
      ],
      "execution_count": null,
      "outputs": []
    },
    {
      "cell_type": "code",
      "metadata": {
        "id": "iUWA_ITrx3JW"
      },
      "source": [
        "#membuat model decision tree\n",
        "tree_model = DecisionTreeClassifier()"
      ],
      "execution_count": null,
      "outputs": []
    },
    {
      "cell_type": "code",
      "metadata": {
        "colab": {
          "base_uri": "https://localhost:8080/"
        },
        "id": "UReabt3Sx-k0",
        "outputId": "6944cf46-0455-47c3-a605-2c807976d9f7"
      },
      "source": [
        "#Melakukan pelatihan model Decision Tree\n",
        "tree_model.fit(x,y)"
      ],
      "execution_count": null,
      "outputs": [
        {
          "output_type": "execute_result",
          "data": {
            "text/plain": [
              "DecisionTreeClassifier(ccp_alpha=0.0, class_weight=None, criterion='gini',\n",
              "                       max_depth=None, max_features=None, max_leaf_nodes=None,\n",
              "                       min_impurity_decrease=0.0, min_impurity_split=None,\n",
              "                       min_samples_leaf=1, min_samples_split=2,\n",
              "                       min_weight_fraction_leaf=0.0, presort='deprecated',\n",
              "                       random_state=None, splitter='best')"
            ]
          },
          "metadata": {
            "tags": []
          },
          "execution_count": 45
        }
      ]
    },
    {
      "cell_type": "markdown",
      "metadata": {
        "id": "PlVrJrB_yhUc"
      },
      "source": [
        "Selanjutnya kita akan melakukan prediksi isi sebuah model dengan menggunakan **predict**"
      ]
    },
    {
      "cell_type": "code",
      "metadata": {
        "colab": {
          "base_uri": "https://localhost:8080/"
        },
        "id": "epkSRCf1yg2s",
        "outputId": "84c704fe-a15f-4b05-ab58-0bc74bc21637"
      },
      "source": [
        "tree_model.predict([[5.1,3.5,1.4,0.2]])"
      ],
      "execution_count": null,
      "outputs": [
        {
          "output_type": "execute_result",
          "data": {
            "text/plain": [
              "array(['Iris-setosa'], dtype=object)"
            ]
          },
          "metadata": {
            "tags": []
          },
          "execution_count": 46
        }
      ]
    },
    {
      "cell_type": "markdown",
      "metadata": {
        "id": "102C0hopzN8t"
      },
      "source": [
        "Selanjutnya kita akan membuat sebuah visualisasi dari decision tree."
      ]
    },
    {
      "cell_type": "code",
      "metadata": {
        "id": "O4NE4P0czsTB"
      },
      "source": [
        "from sklearn.tree import export_graphviz\n",
        "export_graphviz(\n",
        "    tree_model,\n",
        "    out_file = \"iris_tree.dot\",\n",
        "    feature_names = ['SepalLengthCm', 'SepalWidthCm', 'PetalLengthCm', 'PetalWidthCm'],\n",
        "    class_names = ['Iris-setosa', 'Iris-versicolor', 'Iris-virginica' ],\n",
        "    rounded= True,\n",
        "    filled =True\n",
        ")"
      ],
      "execution_count": null,
      "outputs": []
    },
    {
      "cell_type": "markdown",
      "metadata": {
        "id": "uu9tLfNIqGA8"
      },
      "source": [
        "![iris_tree.png](data:image/png;base64,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)"
      ]
    },
    {
      "cell_type": "markdown",
      "metadata": {
        "id": "_UzavxJzLM3K"
      },
      "source": [
        "# **Latihan SKLearn Linear Regression**"
      ]
    },
    {
      "cell_type": "markdown",
      "metadata": {
        "id": "uqmSj2STDuyt"
      },
      "source": [
        "Regresi adalah salah satu teknik ML yang mirip dengan klasifikasi. Perbedaaanya adalah bilangan yang dipakai adalah bilangan numerik."
      ]
    },
    {
      "cell_type": "markdown",
      "metadata": {
        "id": "zyroSQn0D-P1"
      },
      "source": [
        "Jenis-jenis dari regression ada beberapa yaitu :\n",
        "\n",
        "\n",
        "*   Linear Regression\n",
        "Ini adalah metode dari supervised. Salah satu contoh adalah memperkirakan harga rumah berdasarkan fitur yang telah diberikan. Hubungan antarahubungan linear dapat direpresentasikan dengan sebuah garis lurus\n",
        "*   Logistic Regression\n",
        "Ini akan menggunakan sebuah model yaitu klasifikasi. Disini akan menghitung probabilitas kelas dari sebuah sample.\n",
        "\n"
      ]
    },
    {
      "cell_type": "markdown",
      "metadata": {
        "id": "U_Ve0HTBqqID"
      },
      "source": [
        "\n",
        "Buatlah sebuah kodingan yang terdiri dari beberapa konsep dibawah ini :\n",
        "*   Import library yang dubutuhkan\n",
        "*   Buat dataset dummy dengan Numpy Array\n",
        "*   Buat plot model\n",
        "\n",
        "\n",
        "\n",
        "\n"
      ]
    },
    {
      "cell_type": "code",
      "metadata": {
        "id": "y66o0jXtq98Y"
      },
      "source": [
        "import numpy as np\n",
        "\n",
        "# buat data jumlah kamar\n",
        "bedrooms = np.array([1,1,2,2,3,4,4,5,5,5])\n",
        "\n",
        "# data harga rummah. asumsi dalam dollar\n",
        "house_price = np.array([15000, 18000, 27000, 34000, 50000, 68000, 65000, 81000,85000, 90000])"
      ],
      "execution_count": null,
      "outputs": []
    },
    {
      "cell_type": "markdown",
      "metadata": {
        "id": "roPi-eEJroqF"
      },
      "source": [
        "Kita akan mencoba untuk menamilkan data tersebut dengan bentuk *scatter plot*"
      ]
    },
    {
      "cell_type": "code",
      "metadata": {
        "colab": {
          "base_uri": "https://localhost:8080/",
          "height": 282
        },
        "id": "MnaTllnmr2XR",
        "outputId": "d75e31f7-b46a-4332-e74a-6ca8e570389b"
      },
      "source": [
        "# menampilkan scatter plot dari dataset\n",
        "import matplotlib.pyplot as plt\n",
        "%matplotlib inline\n",
        "\n",
        "plt.scatter(bedrooms, house_price)"
      ],
      "execution_count": null,
      "outputs": [
        {
          "output_type": "execute_result",
          "data": {
            "text/plain": [
              "<matplotlib.collections.PathCollection at 0x7f273c8719d0>"
            ]
          },
          "metadata": {
            "tags": []
          },
          "execution_count": 30
        },
        {
          "output_type": "display_data",
          "data": {
            "image/png": "[encoded data removed]",
            "text/plain": [
              "<Figure size 432x288 with 1 Axes>"
            ]
          },
          "metadata": {
            "tags": [],
            "needs_background": "light"
          }
        }
      ]
    },
    {
      "cell_type": "markdown",
      "metadata": {
        "id": "okcW9PZ67Ayc"
      },
      "source": [
        "Kita akan membuat sebuah model Linear Regression dengan memanggil fungsi LiearRegression.fit() untuk melatih model regresi linear dari library sklearn"
      ]
    },
    {
      "cell_type": "code",
      "metadata": {
        "id": "w9FSF_hQk_uE",
        "colab": {
          "base_uri": "https://localhost:8080/"
        },
        "outputId": "204563b0-aba0-47eb-efab-3e8a838e3728"
      },
      "source": [
        "from sklearn.linear_model import LinearRegression\n",
        "\n",
        "# latih model dengan Linear Regression.fit()\n",
        "bedrooms = bedrooms.reshape(-1, 1)\n",
        "linreg = LinearRegression()\n",
        "linreg.fit(bedrooms, house_price)"
      ],
      "execution_count": null,
      "outputs": [
        {
          "output_type": "execute_result",
          "data": {
            "text/plain": [
              "LinearRegression(copy_X=True, fit_intercept=True, n_jobs=None, normalize=False)"
            ]
          },
          "metadata": {
            "tags": []
          },
          "execution_count": 31
        }
      ]
    },
    {
      "cell_type": "markdown",
      "metadata": {
        "id": "BHuUcJTODPtJ"
      },
      "source": [
        "Disini kita akan menampilkan plot dengan menghubungkan antara jumlah kamar dengan harga rumah\n"
      ]
    },
    {
      "cell_type": "code",
      "metadata": {
        "colab": {
          "base_uri": "https://localhost:8080/",
          "height": 282
        },
        "id": "3P2rJ2vvDY0x",
        "outputId": "278fba60-9b28-4806-af3c-a538c4444ff7"
      },
      "source": [
        "plt.scatter(bedrooms, house_price)\n",
        "plt.plot(bedrooms, linreg.predict(bedrooms))"
      ],
      "execution_count": null,
      "outputs": [
        {
          "output_type": "execute_result",
          "data": {
            "text/plain": [
              "[<matplotlib.lines.Line2D at 0x7f273c7d4150>]"
            ]
          },
          "metadata": {
            "tags": []
          },
          "execution_count": 34
        },
        {
          "output_type": "display_data",
          "data": {
            "image/png": "[encoded data removed]",
            "text/plain": [
              "<Figure size 432x288 with 1 Axes>"
            ]
          },
          "metadata": {
            "tags": [],
            "needs_background": "light"
          }
        }
      ]
    },
    {
      "cell_type": "markdown",
      "metadata": {
        "id": "3NM9fWr7K7_F"
      },
      "source": [
        "# **Latihan SKLearn- Logistic Regression**"
      ]
    },
    {
      "cell_type": "markdown",
      "metadata": {
        "id": "qfQkkJ2QLC56"
      },
      "source": [
        "Tahapan yang dilalui dalam latihan kali ini adalah sebagai berikut:\n",
        "*   Ubah dataset menjadi Dataframe\n",
        "*   Pisahkan atribut dan label\n",
        "*   Hapus kolot 'User ID'\n",
        "*   Latih model Logistic Regression\n",
        "*   Evaluasi akurasi model\n",
        "\n",
        "\n",
        "\n"
      ]
    },
    {
      "cell_type": "code",
      "metadata": {
        "id": "FbqZcOU-NHFG"
      },
      "source": [
        "import pandas as pd\n",
        "data = pd.read_csv('Social.csv')"
      ],
      "execution_count": null,
      "outputs": []
    },
    {
      "cell_type": "code",
      "metadata": {
        "colab": {
          "base_uri": "https://localhost:8080/",
          "height": 204
        },
        "id": "dhcThp41Nr-X",
        "outputId": "77a0f3f4-318e-4083-e550-296783f1890a"
      },
      "source": [
        "data.head()"
      ],
      "execution_count": null,
      "outputs": [
        {
          "output_type": "execute_result",
          "data": {
            "text/html": [
              "<div>\n",
              "<style scoped>\n",
              "    .dataframe tbody tr th:only-of-type {\n",
              "        vertical-align: middle;\n",
              "    }\n",
              "\n",
              "    .dataframe tbody tr th {\n",
              "        vertical-align: top;\n",
              "    }\n",
              "\n",
              "    .dataframe thead th {\n",
              "        text-align: right;\n",
              "    }\n",
              "</style>\n",
              "<table border=\"1\" class=\"dataframe\">\n",
              "  <thead>\n",
              "    <tr style=\"text-align: right;\">\n",
              "      <th></th>\n",
              "      <th>User ID</th>\n",
              "      <th>Gender</th>\n",
              "      <th>Age</th>\n",
              "      <th>EstimatedSalary</th>\n",
              "      <th>Purchased</th>\n",
              "    </tr>\n",
              "  </thead>\n",
              "  <tbody>\n",
              "    <tr>\n",
              "      <th>0</th>\n",
              "      <td>15624510</td>\n",
              "      <td>Male</td>\n",
              "      <td>19</td>\n",
              "      <td>19000</td>\n",
              "      <td>0</td>\n",
              "    </tr>\n",
              "    <tr>\n",
              "      <th>1</th>\n",
              "      <td>15810944</td>\n",
              "      <td>Male</td>\n",
              "      <td>35</td>\n",
              "      <td>20000</td>\n",
              "      <td>0</td>\n",
              "    </tr>\n",
              "    <tr>\n",
              "      <th>2</th>\n",
              "      <td>15668575</td>\n",
              "      <td>Female</td>\n",
              "      <td>26</td>\n",
              "      <td>43000</td>\n",
              "      <td>0</td>\n",
              "    </tr>\n",
              "    <tr>\n",
              "      <th>3</th>\n",
              "      <td>15603246</td>\n",
              "      <td>Female</td>\n",
              "      <td>27</td>\n",
              "      <td>57000</td>\n",
              "      <td>0</td>\n",
              "    </tr>\n",
              "    <tr>\n",
              "      <th>4</th>\n",
              "      <td>15804002</td>\n",
              "      <td>Male</td>\n",
              "      <td>19</td>\n",
              "      <td>76000</td>\n",
              "      <td>0</td>\n",
              "    </tr>\n",
              "  </tbody>\n",
              "</table>\n",
              "</div>"
            ],
            "text/plain": [
              "    User ID  Gender  Age  EstimatedSalary  Purchased\n",
              "0  15624510    Male   19            19000          0\n",
              "1  15810944    Male   35            20000          0\n",
              "2  15668575  Female   26            43000          0\n",
              "3  15603246  Female   27            57000          0\n",
              "4  15804002    Male   19            76000          0"
            ]
          },
          "metadata": {
            "tags": []
          },
          "execution_count": 37
        }
      ]
    },
    {
      "cell_type": "code",
      "metadata": {
        "id": "XpfgM-pUOCOE"
      },
      "source": [
        "import pandas as pd\n",
        "df = pd.read_csv('Social.csv')"
      ],
      "execution_count": null,
      "outputs": []
    },
    {
      "cell_type": "code",
      "metadata": {
        "colab": {
          "base_uri": "https://localhost:8080/",
          "height": 204
        },
        "id": "5fd_z_nSOMP5",
        "outputId": "8e9bd806-6dc7-4fd8-e927-ab980535d589"
      },
      "source": [
        "df.head()"
      ],
      "execution_count": null,
      "outputs": [
        {
          "output_type": "execute_result",
          "data": {
            "text/html": [
              "<div>\n",
              "<style scoped>\n",
              "    .dataframe tbody tr th:only-of-type {\n",
              "        vertical-align: middle;\n",
              "    }\n",
              "\n",
              "    .dataframe tbody tr th {\n",
              "        vertical-align: top;\n",
              "    }\n",
              "\n",
              "    .dataframe thead th {\n",
              "        text-align: right;\n",
              "    }\n",
              "</style>\n",
              "<table border=\"1\" class=\"dataframe\">\n",
              "  <thead>\n",
              "    <tr style=\"text-align: right;\">\n",
              "      <th></th>\n",
              "      <th>User ID</th>\n",
              "      <th>Gender</th>\n",
              "      <th>Age</th>\n",
              "      <th>EstimatedSalary</th>\n",
              "      <th>Purchased</th>\n",
              "    </tr>\n",
              "  </thead>\n",
              "  <tbody>\n",
              "    <tr>\n",
              "      <th>0</th>\n",
              "      <td>15624510</td>\n",
              "      <td>Male</td>\n",
              "      <td>19</td>\n",
              "      <td>19000</td>\n",
              "      <td>0</td>\n",
              "    </tr>\n",
              "    <tr>\n",
              "      <th>1</th>\n",
              "      <td>15810944</td>\n",
              "      <td>Male</td>\n",
              "      <td>35</td>\n",
              "      <td>20000</td>\n",
              "      <td>0</td>\n",
              "    </tr>\n",
              "    <tr>\n",
              "      <th>2</th>\n",
              "      <td>15668575</td>\n",
              "      <td>Female</td>\n",
              "      <td>26</td>\n",
              "      <td>43000</td>\n",
              "      <td>0</td>\n",
              "    </tr>\n",
              "    <tr>\n",
              "      <th>3</th>\n",
              "      <td>15603246</td>\n",
              "      <td>Female</td>\n",
              "      <td>27</td>\n",
              "      <td>57000</td>\n",
              "      <td>0</td>\n",
              "    </tr>\n",
              "    <tr>\n",
              "      <th>4</th>\n",
              "      <td>15804002</td>\n",
              "      <td>Male</td>\n",
              "      <td>19</td>\n",
              "      <td>76000</td>\n",
              "      <td>0</td>\n",
              "    </tr>\n",
              "  </tbody>\n",
              "</table>\n",
              "</div>"
            ],
            "text/plain": [
              "    User ID  Gender  Age  EstimatedSalary  Purchased\n",
              "0  15624510    Male   19            19000          0\n",
              "1  15810944    Male   35            20000          0\n",
              "2  15668575  Female   26            43000          0\n",
              "3  15603246  Female   27            57000          0\n",
              "4  15804002    Male   19            76000          0"
            ]
          },
          "metadata": {
            "tags": []
          },
          "execution_count": 39
        }
      ]
    },
    {
      "cell_type": "code",
      "metadata": {
        "id": "ZQ6bi27nOa66"
      },
      "source": [
        "df.drop('User ID', axis = 1, inplace=True)"
      ],
      "execution_count": null,
      "outputs": []
    },
    {
      "cell_type": "code",
      "metadata": {
        "colab": {
          "base_uri": "https://localhost:8080/",
          "height": 204
        },
        "id": "zsPgMLdeOs-U",
        "outputId": "ba5ec929-efe3-4d70-d21a-89b4518e16d2"
      },
      "source": [
        "df.head()"
      ],
      "execution_count": null,
      "outputs": [
        {
          "output_type": "execute_result",
          "data": {
            "text/html": [
              "<div>\n",
              "<style scoped>\n",
              "    .dataframe tbody tr th:only-of-type {\n",
              "        vertical-align: middle;\n",
              "    }\n",
              "\n",
              "    .dataframe tbody tr th {\n",
              "        vertical-align: top;\n",
              "    }\n",
              "\n",
              "    .dataframe thead th {\n",
              "        text-align: right;\n",
              "    }\n",
              "</style>\n",
              "<table border=\"1\" class=\"dataframe\">\n",
              "  <thead>\n",
              "    <tr style=\"text-align: right;\">\n",
              "      <th></th>\n",
              "      <th>Gender</th>\n",
              "      <th>Age</th>\n",
              "      <th>EstimatedSalary</th>\n",
              "      <th>Purchased</th>\n",
              "    </tr>\n",
              "  </thead>\n",
              "  <tbody>\n",
              "    <tr>\n",
              "      <th>0</th>\n",
              "      <td>Male</td>\n",
              "      <td>19</td>\n",
              "      <td>19000</td>\n",
              "      <td>0</td>\n",
              "    </tr>\n",
              "    <tr>\n",
              "      <th>1</th>\n",
              "      <td>Male</td>\n",
              "      <td>35</td>\n",
              "      <td>20000</td>\n",
              "      <td>0</td>\n",
              "    </tr>\n",
              "    <tr>\n",
              "      <th>2</th>\n",
              "      <td>Female</td>\n",
              "      <td>26</td>\n",
              "      <td>43000</td>\n",
              "      <td>0</td>\n",
              "    </tr>\n",
              "    <tr>\n",
              "      <th>3</th>\n",
              "      <td>Female</td>\n",
              "      <td>27</td>\n",
              "      <td>57000</td>\n",
              "      <td>0</td>\n",
              "    </tr>\n",
              "    <tr>\n",
              "      <th>4</th>\n",
              "      <td>Male</td>\n",
              "      <td>19</td>\n",
              "      <td>76000</td>\n",
              "      <td>0</td>\n",
              "    </tr>\n",
              "  </tbody>\n",
              "</table>\n",
              "</div>"
            ],
            "text/plain": [
              "   Gender  Age  EstimatedSalary  Purchased\n",
              "0    Male   19            19000          0\n",
              "1    Male   35            20000          0\n",
              "2  Female   26            43000          0\n",
              "3  Female   27            57000          0\n",
              "4    Male   19            76000          0"
            ]
          },
          "metadata": {
            "tags": []
          },
          "execution_count": 61
        }
      ]
    },
    {
      "cell_type": "markdown",
      "metadata": {
        "id": "0JPWZ5wfQNf_"
      },
      "source": [
        "proses One-Hot Encoding karena label pada dataset kita merupakan data kategorikal. Dimana arti data kategorikal adalah data yang dibagi dalam beberapa kelompok atau kategori"
      ]
    },
    {
      "cell_type": "code",
      "metadata": {
        "colab": {
          "base_uri": "https://localhost:8080/",
          "height": 419
        },
        "id": "XJU4nMXMO52s",
        "outputId": "10e7c79b-eb68-48a0-d88f-aca4a2a0fa84"
      },
      "source": [
        "#jalankan proses one-hot encoding dengan pd.get_dummies() dimana one-hot encoding merupakan data preposition\n",
        "data = pd.get_dummies(data)\n",
        "data"
      ],
      "execution_count": null,
      "outputs": [
        {
          "output_type": "execute_result",
          "data": {
            "text/html": [
              "<div>\n",
              "<style scoped>\n",
              "    .dataframe tbody tr th:only-of-type {\n",
              "        vertical-align: middle;\n",
              "    }\n",
              "\n",
              "    .dataframe tbody tr th {\n",
              "        vertical-align: top;\n",
              "    }\n",
              "\n",
              "    .dataframe thead th {\n",
              "        text-align: right;\n",
              "    }\n",
              "</style>\n",
              "<table border=\"1\" class=\"dataframe\">\n",
              "  <thead>\n",
              "    <tr style=\"text-align: right;\">\n",
              "      <th></th>\n",
              "      <th>Age</th>\n",
              "      <th>EstimatedSalary</th>\n",
              "      <th>Purchased</th>\n",
              "      <th>Gender_Female</th>\n",
              "      <th>Gender_Male</th>\n",
              "    </tr>\n",
              "  </thead>\n",
              "  <tbody>\n",
              "    <tr>\n",
              "      <th>0</th>\n",
              "      <td>19</td>\n",
              "      <td>19000</td>\n",
              "      <td>0</td>\n",
              "      <td>0</td>\n",
              "      <td>1</td>\n",
              "    </tr>\n",
              "    <tr>\n",
              "      <th>1</th>\n",
              "      <td>35</td>\n",
              "      <td>20000</td>\n",
              "      <td>0</td>\n",
              "      <td>0</td>\n",
              "      <td>1</td>\n",
              "    </tr>\n",
              "    <tr>\n",
              "      <th>2</th>\n",
              "      <td>26</td>\n",
              "      <td>43000</td>\n",
              "      <td>0</td>\n",
              "      <td>1</td>\n",
              "      <td>0</td>\n",
              "    </tr>\n",
              "    <tr>\n",
              "      <th>3</th>\n",
              "      <td>27</td>\n",
              "      <td>57000</td>\n",
              "      <td>0</td>\n",
              "      <td>1</td>\n",
              "      <td>0</td>\n",
              "    </tr>\n",
              "    <tr>\n",
              "      <th>4</th>\n",
              "      <td>19</td>\n",
              "      <td>76000</td>\n",
              "      <td>0</td>\n",
              "      <td>0</td>\n",
              "      <td>1</td>\n",
              "    </tr>\n",
              "    <tr>\n",
              "      <th>...</th>\n",
              "      <td>...</td>\n",
              "      <td>...</td>\n",
              "      <td>...</td>\n",
              "      <td>...</td>\n",
              "      <td>...</td>\n",
              "    </tr>\n",
              "    <tr>\n",
              "      <th>395</th>\n",
              "      <td>46</td>\n",
              "      <td>41000</td>\n",
              "      <td>1</td>\n",
              "      <td>1</td>\n",
              "      <td>0</td>\n",
              "    </tr>\n",
              "    <tr>\n",
              "      <th>396</th>\n",
              "      <td>51</td>\n",
              "      <td>23000</td>\n",
              "      <td>1</td>\n",
              "      <td>0</td>\n",
              "      <td>1</td>\n",
              "    </tr>\n",
              "    <tr>\n",
              "      <th>397</th>\n",
              "      <td>50</td>\n",
              "      <td>20000</td>\n",
              "      <td>1</td>\n",
              "      <td>1</td>\n",
              "      <td>0</td>\n",
              "    </tr>\n",
              "    <tr>\n",
              "      <th>398</th>\n",
              "      <td>36</td>\n",
              "      <td>33000</td>\n",
              "      <td>0</td>\n",
              "      <td>0</td>\n",
              "      <td>1</td>\n",
              "    </tr>\n",
              "    <tr>\n",
              "      <th>399</th>\n",
              "      <td>49</td>\n",
              "      <td>36000</td>\n",
              "      <td>1</td>\n",
              "      <td>1</td>\n",
              "      <td>0</td>\n",
              "    </tr>\n",
              "  </tbody>\n",
              "</table>\n",
              "<p>400 rows × 5 columns</p>\n",
              "</div>"
            ],
            "text/plain": [
              "     Age  EstimatedSalary  Purchased  Gender_Female  Gender_Male\n",
              "0     19            19000          0              0            1\n",
              "1     35            20000          0              0            1\n",
              "2     26            43000          0              1            0\n",
              "3     27            57000          0              1            0\n",
              "4     19            76000          0              0            1\n",
              "..   ...              ...        ...            ...          ...\n",
              "395   46            41000          1              1            0\n",
              "396   51            23000          1              0            1\n",
              "397   50            20000          1              1            0\n",
              "398   36            33000          0              0            1\n",
              "399   49            36000          1              1            0\n",
              "\n",
              "[400 rows x 5 columns]"
            ]
          },
          "metadata": {
            "tags": []
          },
          "execution_count": 62
        }
      ]
    },
    {
      "cell_type": "markdown",
      "metadata": {
        "id": "g2AH3L0xSuxF"
      },
      "source": [
        "Disini kita akan memisahkan yang akan menjadi atribut dan label"
      ]
    },
    {
      "cell_type": "code",
      "metadata": {
        "id": "0xfSRSf5Qw8u"
      },
      "source": [
        "#Pisahkan atribut dan label\n",
        "data1=['Age','EstimatedSalary',\t'Gender_Female',\t'Gender_Male']\n",
        "x = data[data1]\n",
        "y=data['Purchased']"
      ],
      "execution_count": null,
      "outputs": []
    },
    {
      "cell_type": "markdown",
      "metadata": {
        "id": "kt1MaUkDTVfD"
      },
      "source": [
        "Karena salah satu teknik yang dipakai dalam data preparation dalah **Normalization** dengan tujuan adalah mengubah nilai-nilai dari sebuah fitur ke dalam skala yang sama. \n",
        "\n",
        "\n",
        "\n",
        "```\n",
        "# from sklearn.preprocessing import MinMaxScaler\n",
        "data = [[12000000, 33], [35000000, 45], [4000000, 23], [6500000, 26], [9000000, 29]]\n",
        "```\n",
        "\n",
        "\n"
      ]
    },
    {
      "cell_type": "code",
      "metadata": {
        "colab": {
          "base_uri": "https://localhost:8080/",
          "height": 204
        },
        "id": "ZiBKYmEeTUsJ",
        "outputId": "364516c2-247d-4fd2-d266-32370c5433c9"
      },
      "source": [
        "#Disini kita akan menggunakan model Logistic Regression\n",
        "#Disini kita akan melakukan degan menggunakan normalisai terhadap data yang kita miliki\n",
        "from sklearn.preprocessing import StandardScaler\n",
        "#Disini kita untuk menggunakan Normalization kita menggunakan Scaler\n",
        "scaler = StandardScaler()\n",
        "scaler.fit(x)\n",
        "scaled_data = scaler.transform(x)\n",
        "scaled_data = pd.DataFrame(scaled_data, columns=x.columns)\n",
        "scaled_data.head()\n"
      ],
      "execution_count": null,
      "outputs": [
        {
          "output_type": "execute_result",
          "data": {
            "text/html": [
              "<div>\n",
              "<style scoped>\n",
              "    .dataframe tbody tr th:only-of-type {\n",
              "        vertical-align: middle;\n",
              "    }\n",
              "\n",
              "    .dataframe tbody tr th {\n",
              "        vertical-align: top;\n",
              "    }\n",
              "\n",
              "    .dataframe thead th {\n",
              "        text-align: right;\n",
              "    }\n",
              "</style>\n",
              "<table border=\"1\" class=\"dataframe\">\n",
              "  <thead>\n",
              "    <tr style=\"text-align: right;\">\n",
              "      <th></th>\n",
              "      <th>Age</th>\n",
              "      <th>EstimatedSalary</th>\n",
              "      <th>Gender_Female</th>\n",
              "      <th>Gender_Male</th>\n",
              "    </tr>\n",
              "  </thead>\n",
              "  <tbody>\n",
              "    <tr>\n",
              "      <th>0</th>\n",
              "      <td>-1.781797</td>\n",
              "      <td>-1.490046</td>\n",
              "      <td>-1.020204</td>\n",
              "      <td>1.020204</td>\n",
              "    </tr>\n",
              "    <tr>\n",
              "      <th>1</th>\n",
              "      <td>-0.253587</td>\n",
              "      <td>-1.460681</td>\n",
              "      <td>-1.020204</td>\n",
              "      <td>1.020204</td>\n",
              "    </tr>\n",
              "    <tr>\n",
              "      <th>2</th>\n",
              "      <td>-1.113206</td>\n",
              "      <td>-0.785290</td>\n",
              "      <td>0.980196</td>\n",
              "      <td>-0.980196</td>\n",
              "    </tr>\n",
              "    <tr>\n",
              "      <th>3</th>\n",
              "      <td>-1.017692</td>\n",
              "      <td>-0.374182</td>\n",
              "      <td>0.980196</td>\n",
              "      <td>-0.980196</td>\n",
              "    </tr>\n",
              "    <tr>\n",
              "      <th>4</th>\n",
              "      <td>-1.781797</td>\n",
              "      <td>0.183751</td>\n",
              "      <td>-1.020204</td>\n",
              "      <td>1.020204</td>\n",
              "    </tr>\n",
              "  </tbody>\n",
              "</table>\n",
              "</div>"
            ],
            "text/plain": [
              "        Age  EstimatedSalary  Gender_Female  Gender_Male\n",
              "0 -1.781797        -1.490046      -1.020204     1.020204\n",
              "1 -0.253587        -1.460681      -1.020204     1.020204\n",
              "2 -1.113206        -0.785290       0.980196    -0.980196\n",
              "3 -1.017692        -0.374182       0.980196    -0.980196\n",
              "4 -1.781797         0.183751      -1.020204     1.020204"
            ]
          },
          "metadata": {
            "tags": []
          },
          "execution_count": 67
        }
      ]
    },
    {
      "cell_type": "markdown",
      "metadata": {
        "id": "kK1-2A-gXABF"
      },
      "source": [
        "# **Latihan SKLearn K-means**"
      ]
    },
    {
      "cell_type": "markdown",
      "metadata": {
        "id": "1XSiU1pjXEHQ"
      },
      "source": [
        "Tahapan pada latihan kali ini adalah sebagai berikut:\n",
        "\n",
        "1. Konversi data menjadi Dataframe.\n",
        "2. Lakukan preprocessing data.\n",
        "3. Hilangkan kolom 'CustomerID' dan    'gender'.\n",
        "4. Latih model K-Means.\n",
        "5. Buat plot untuk Elbow dan Cluster."
      ]
    },
    {
      "cell_type": "code",
      "metadata": {
        "id": "v1DFq-3OXPSQ"
      },
      "source": [
        ""
      ],
      "execution_count": null,
      "outputs": []
    }
  ]
}